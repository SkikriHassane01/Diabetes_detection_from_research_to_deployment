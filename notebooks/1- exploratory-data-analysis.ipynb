{
 "cells": [
  {
   "cell_type": "markdown",
   "metadata": {},
   "source": [
    "<div style=\"background-color: #30302E; padding: 20px; border-radius: 10px; border-left: 5px solid #007bff;\">\n",
    "    <h1 style=\"text-align: center;\">🔬 Diabetes Classification Project</h1>\n",
    "    <h2 style=\" text-align: center;\">Comprehensive Exploratory Data Analysis</h2>\n",
    "</div>\n",
    "\n",
    "<div style=\"background-color: #30302E; padding: 15px; border-radius: 5px; margin-top: 20px;\">\n",
    "    <p><strong>Project Overview:</strong> This notebook analyzes a dataset for diabetes classification into three categories: No Diabetes (0), Prediabetes (1), and Diabetes (2). We aim to uncover key insights and patterns to support the development of a robust classification model.</p>\n",
    "</div>"
   ]
  },
  {
   "cell_type": "markdown",
   "metadata": {},
   "source": [
    "<div style=\"background-color: #30302E; padding: 15px; border-radius: 5px;\">\n",
    "    <h3 style=\"color: #856404;\">📋 Analysis Objectives</h3>\n",
    "    <ul>\n",
    "        <li>Understand feature distributions and identify any skewness</li>\n",
    "        <li>Analyze class imbalance in the target variable</li>\n",
    "        <li>Identify correlations between features and the target</li>\n",
    "        <li>Determine feature importance for model development</li>\n",
    "        <li>Provide recommendations for model building stages</li>\n",
    "    </ul>\n",
    "</div>"
   ]
  },
  {
   "cell_type": "markdown",
   "metadata": {},
   "source": [
    "## 📦 Import Libraries and Load Data"
   ]
  },
  {
   "cell_type": "code",
   "execution_count": 1,
   "metadata": {},
   "outputs": [],
   "source": [
    "\n",
    "# Import necessary libraries\n",
    "import pandas as pd\n",
    "import matplotlib.pyplot as plt\n",
    "import seaborn as sns\n",
    "from pathlib import Path\n",
    "import warnings\n",
    "import sys\n",
    "\n",
    "# Ignore warnings for cleaner notebook output\n",
    "warnings.filterwarnings('ignore')\n",
    "\n",
    "# Set plot style\n",
    "plt.style.use('seaborn-v0_8-whitegrid')\n",
    "sns.set_palette('viridis')\n",
    "\n",
    "# Add the project root to the path to import project modules\n",
    "sys.path.append(str(Path.cwd().parent))\n",
    "\n",
    "# Import our custom analysis modules\n",
    "from analysis.analyze_distributions import analyze_distributions\n",
    "from analysis.analyze_class_imbalance import analyze_class_imbalance\n",
    "from analysis.analyze_correlations import analyze_correlations\n",
    "from analysis.analyze_feature_importance import analyze_feature_importance\n",
    "\n",
    "# For displaying images inline\n",
    "from IPython.display import Image, display"
   ]
  },
  {
   "cell_type": "code",
   "execution_count": null,
   "metadata": {},
   "outputs": [],
   "source": [
    "# Let's load our diabetes dataset\n",
    "data_path = \"../data/extracted/diabetes_data/diabetes_012_health_indicators_BRFSS2015.csv\"\n",
    "df = pd.read_csv(data_path)\n",
    "\n",
    "# Quick look at the data\n",
    "print(f\"Dataset shape: {df.shape}\")\n",
    "df.head()"
   ]
  },
  {
   "cell_type": "code",
   "execution_count": null,
   "metadata": {},
   "outputs": [],
   "source": [
    "# remove the record where diabetes is 1\n",
    "\n",
    "df = df.drop(df[df['Diabetes_012'] == 1].index)\n",
    "\n",
    "# df['Diabetes_012'] = df['Diabetes_012'].map({2: 0, 1: 1})\n",
    "\n",
    "df.rename(columns={'Diabetes_012': 'Diabetes'}, inplace=True)\n",
    "\n",
    "df['Diabetes'].value_counts()"
   ]
  },
  {
   "cell_type": "code",
   "execution_count": null,
   "metadata": {},
   "outputs": [],
   "source": []
  },
  {
   "cell_type": "code",
   "execution_count": null,
   "metadata": {},
   "outputs": [],
   "source": [
    "# Basic statistics of the dataset\n",
    "df.describe().T"
   ]
  },
  {
   "cell_type": "code",
   "execution_count": null,
   "metadata": {},
   "outputs": [],
   "source": [
    "# Check for missing values\n",
    "missing_values = df.isnull().sum()\n",
    "if missing_values.sum() > 0:\n",
    "    print(\"Columns with missing values:\")\n",
    "    print(missing_values[missing_values > 0])\n",
    "else:\n",
    "    print(\"No missing values found in the dataset!\")"
   ]
  },
  {
   "cell_type": "code",
   "execution_count": null,
   "metadata": {},
   "outputs": [],
   "source": [
    "# check for duplicated values \n",
    "print(df.duplicated().sum())"
   ]
  },
  {
   "cell_type": "markdown",
   "metadata": {},
   "source": [
    "<div style=\"background-color: #30302E; padding: 15px; border-radius: 5px;\">\n",
    "    <h2>📊 Feature Distributions Analysis</h2>\n",
    "    <p>Let's analyze the distributions of different feature types: binary, continuous, and ordinal features.</p>\n",
    "</div>"
   ]
  },
  {
   "cell_type": "code",
   "execution_count": null,
   "metadata": {},
   "outputs": [],
   "source": [
    "# Run the distribution analysis\n",
    "analyze_distributions(df)\n",
    "\n",
    "# Display the generated images\n",
    "distribution_path = \"reports/distributions_figures/\"\n",
    "\n",
    "# Function to display images with title\n",
    "def display_image_with_title(image_path, title):\n",
    "    print(f\"\\n## {title}\")\n",
    "    display(Image(image_path))"
   ]
  },
  {
   "cell_type": "code",
   "execution_count": null,
   "metadata": {},
   "outputs": [],
   "source": [
    "# Display binary features distribution\n",
    "display_image_with_title(distribution_path + \"binary_features_distribution.png\", \"Binary Features Distribution\")"
   ]
  },
  {
   "cell_type": "markdown",
   "metadata": {},
   "source": [
    "<div style=\"background-color: #30302E; padding: 15px; border-radius: 5px; margin-top: 10px;\">\n",
    "    <h3>Observations on Binary Features:</h3>\n",
    "    <p><strong>Highly Imbalanced Features:</strong></p>\n",
    "    <ul>\n",
    "        <li><strong>CholCheck</strong>: Most patients have had cholesterol checks</li>\n",
    "        <li><strong>Stroke</strong>: Very few patients have had a stroke</li>\n",
    "        <li><strong>HeartDiseaseorAttack</strong>: Minority have heart disease history</li>\n",
    "        <li><strong>Veggies</strong>: Most consume vegetables</li>\n",
    "        <li><strong>HvyAlcoholConsump</strong>: Few report heavy alcohol consumption</li>\n",
    "        <li><strong>AnyHealthcare</strong>: Most have some form of healthcare access</li>\n",
    "        <li><strong>NoDocbcCost</strong>: Minority unable to see doctor due to cost</li>\n",
    "    </ul>\n",
    "    <p><strong>Moderately Imbalanced Features:</strong></p>\n",
    "    <ul>\n",
    "        <li><strong>PhysActivity</strong>: Higher proportion engaging in physical activity</li>\n",
    "        <li><strong>Fruits</strong>: Most consume fruits, but more balanced than vegetables</li>\n",
    "        <li><strong>DiffWalk</strong>: Minority report difficulty walking</li>\n",
    "    </ul>\n",
    "</div>"
   ]
  },
  {
   "cell_type": "code",
   "execution_count": null,
   "metadata": {},
   "outputs": [],
   "source": [
    "# Display continuous features distribution\n",
    "display_image_with_title(distribution_path + \"continuous_features_distribution.png\", \"Continuous Features Distribution\")"
   ]
  },
  {
   "cell_type": "markdown",
   "metadata": {},
   "source": [
    "<div style=\"background-color: #30302E; padding: 15px; border-radius: 5px; margin-top: 10px;\">\n",
    "    <h3>Observations on Continuous Features:</h3>\n",
    "    <ul>\n",
    "        <li><strong>BMI</strong>: Right-skewed distribution with many outliers above 40</li>\n",
    "        <li><strong>MentHlth</strong>: Highly left-skewed with most values between 0-3, indicating few reported mental health issues for most individuals</li>\n",
    "        <li><strong>PhysHlth</strong>: Similarly left-skewed with most values between 0-3, suggesting few physical health issues reported by most patients</li>\n",
    "        <li>All three features show notable outliers that may require attention during preprocessing</li>\n",
    "    </ul>\n",
    "</div>"
   ]
  },
  {
   "cell_type": "code",
   "execution_count": null,
   "metadata": {},
   "outputs": [],
   "source": [
    "# Display ordinal features distribution\n",
    "display_image_with_title(distribution_path + \"ordinal_features_distribution.png\", \"Ordinal Features Distribution\")"
   ]
  },
  {
   "cell_type": "markdown",
   "metadata": {},
   "source": [
    "<div style=\"background-color: #30302E; padding: 15px; border-radius: 5px; margin-top: 10px;\">\n",
    "    <h3>Observations on Ordinal Features:</h3>\n",
    "    <ul>\n",
    "        <li><strong>GenHlth</strong>: Follows a log-normal distribution, with most people reporting good to very good health</li>\n",
    "        <li><strong>Age</strong>: Also follows a log-normal distribution, with higher representation in middle age categories</li>\n",
    "        <li><strong>Education</strong>: Left-skewed with higher counts for better-educated individuals</li>\n",
    "        <li><strong>Income</strong>: Left-skewed with higher representation in higher income brackets</li>\n",
    "    </ul>\n",
    "</div>"
   ]
  },
  {
   "cell_type": "markdown",
   "metadata": {},
   "source": [
    "<div style=\"background-color: #30302E; padding: 15px; border-radius: 5px; border-left: 5px solid #17a2b8;\">\n",
    "    <h2 >⚖️ Target Class Imbalance Analysis</h2>\n",
    "    <p>Let's analyze the distribution of our target variable to understand the class imbalance.</p>\n",
    "</div>"
   ]
  },
  {
   "cell_type": "code",
   "execution_count": null,
   "metadata": {},
   "outputs": [],
   "source": [
    "# Run the class imbalance analysis\n",
    "analyze_class_imbalance(df)\n",
    "\n",
    "# Display the generated image\n",
    "imbalance_path = \"reports/class_imbalance_figures/\"\n",
    "display_image_with_title(imbalance_path + \"class_distribution.png\", \"Target Class Distribution\")"
   ]
  },
  {
   "cell_type": "markdown",
   "metadata": {},
   "source": [
    "<div style=\"background-color: #30302E; padding: 15px; border-radius: 5px; margin-top: 10px;\">\n",
    "    <h3>Target Class Imbalance Observations:</h3>\n",
    "    <ul>\n",
    "        <li><strong>Severe imbalance</strong> with approximately:</li>\n",
    "        <ul>\n",
    "            <li>84% No Diabetes (class 0)</li>\n",
    "            <li>1.8% Prediabetes (class 1)</li>\n",
    "            <li>13.9% Diabetes (class 2)</li>\n",
    "        </ul>\n",
    "        <li>Prediabetes class is significantly underrepresented</li>\n",
    "        <li>This imbalance will require special handling during model development</li>\n",
    "    </ul>\n",
    "</div>"
   ]
  },
  {
   "cell_type": "markdown",
   "metadata": {},
   "source": [
    "<div style=\"background-color: #30302E; padding: 15px; border-radius: 5px; border-left: 5px solid #6f42c1;\">\n",
    "    <h2 style=\"color: #6f42c1;\">🔄 Feature Correlation Analysis</h2>\n",
    "    <p>Identifying correlations between features and with the target variable.</p>\n",
    "</div>"
   ]
  },
  {
   "cell_type": "code",
   "execution_count": null,
   "metadata": {},
   "outputs": [],
   "source": [
    "# Run the correlation analysis\n",
    "correlation_matrix = analyze_correlations(df)\n",
    "\n",
    "# Display the generated images\n",
    "correlation_path = \"reports/correlations_figures/\"\n",
    "\n",
    "# Display correlation matrix\n",
    "display_image_with_title(correlation_path + \"correlation_matrix.png\", \"Feature Correlation Matrix\")"
   ]
  },
  {
   "cell_type": "code",
   "execution_count": null,
   "metadata": {},
   "outputs": [],
   "source": [
    "# Display target correlations\n",
    "display_image_with_title(correlation_path + \"target_correlations.png\", \"Feature Correlations with Target\")"
   ]
  },
  {
   "cell_type": "markdown",
   "metadata": {},
   "source": [
    "<div style=\"background-color: #30302E; padding: 15px; border-radius: 5px; margin-top: 10px;\">\n",
    "    <h3>Correlation Analysis Observations:</h3>\n",
    "    <p><strong>Positive correlations with diabetes:</strong></p>\n",
    "    <ul>\n",
    "        <li><strong>GenHlth</strong>: Strong positive correlation (poorer general health associated with diabetes)</li>\n",
    "        <li><strong>HighBP</strong>: Strong positive correlation</li>\n",
    "        <li><strong>BMI</strong>: Notable positive correlation</li>\n",
    "        <li><strong>DiffWalk</strong>: Significant positive correlation</li>\n",
    "        <li><strong>HighChol</strong>: Positive correlation</li>\n",
    "        <li><strong>Age</strong>: Positive correlation</li>\n",
    "    </ul>\n",
    "    <p><strong>Negative correlations with diabetes:</strong></p>\n",
    "    <ul>\n",
    "        <li><strong>Income</strong>: Strong negative correlation</li>\n",
    "        <li><strong>Education</strong>: Notable negative correlation</li>\n",
    "    </ul>\n",
    "    <p><strong>Strong feature interrelationships:</strong></p>\n",
    "    <ul>\n",
    "        <li>(GenHlth, DiffWalk): Strong positive correlation</li>\n",
    "        <li>(GenHlth, PhysHlth): Strong positive correlation</li>\n",
    "        <li>(PhysHlth, DiffWalk): Strong positive correlation</li>\n",
    "        <li>(Education, Income): Strong positive correlation</li>\n",
    "        <li>(GenHlth, Income): Notable negative correlation</li>\n",
    "    </ul>\n",
    "</div>"
   ]
  },
  {
   "cell_type": "markdown",
   "metadata": {},
   "source": [
    "<div style=\"background-color: #30302E; padding: 15px; border-radius: 5px; border-left: 5px solid #dc3545;\">\n",
    "    <h2>🏆 Feature Importance Analysis</h2>\n",
    "    <p>Identifying the most predictive features for our classification task.</p>\n",
    "</div>"
   ]
  },
  {
   "cell_type": "code",
   "execution_count": null,
   "metadata": {},
   "outputs": [],
   "source": [
    "# Run the feature importance analysis\n",
    "feature_importance = analyze_feature_importance(df)\n",
    "\n",
    "# Display the generated image\n",
    "importance_path = \"reports/feature_importance_figures/\"\n",
    "display_image_with_title(importance_path + \"rf_feature_importance.png\", \"Random Forest Feature Importance\")"
   ]
  },
  {
   "cell_type": "markdown",
   "metadata": {},
   "source": [
    "<div style=\"background-color: #30302E; padding: 15px; border-radius: 5px; margin-top: 10px;\">\n",
    "    <h3>Feature Importance Observations:</h3>\n",
    "    <p><strong>Top 5 most important features:</strong></p>\n",
    "    <ol>\n",
    "        <li><strong>BMI</strong>: Highest importance, aligning with medical knowledge about diabetes risk factors</li>\n",
    "        <li><strong>Age</strong>: Second most important, as diabetes risk increases with age</li>\n",
    "        <li><strong>Income</strong>: Third most important, suggesting socioeconomic factors play a significant role</li>\n",
    "        <li><strong>PhysHlth</strong>: Fourth most important, indicating physical health status importance</li>\n",
    "        <li><strong>Education</strong>: Fifth most important, further highlighting socioeconomic dimensions</li>\n",
    "    </ol>\n",
    "    <p>This analysis confirms many known risk factors for diabetes and provides insight for feature engineering and selection.</p>\n",
    "</div>"
   ]
  },
  {
   "cell_type": "markdown",
   "metadata": {},
   "source": [
    "<div style=\"background-color: #30302E; padding: 20px; border-radius: 10px;margin-top: 30px;\">\n",
    "    <h1 style=\" text-align: center;\">📝 Summary Report & Recommendations</h1>\n",
    "</div>\n",
    "<div style=\"background-color: #30302E; padding: 20px; border-radius: 10px; margin-top: 20px;\">\n",
    "    <h2>Key Findings</h2>\n",
    "    <h3>1. Data Characteristics and Quality</h3>\n",
    "    <ul>\n",
    "        <li>The dataset contains <strong>253,680 samples</strong> with <strong>22 features</strong> (21 predictors + 1 target)</li>\n",
    "        <li>No missing values were detected, which is excellent for model development</li>\n",
    "        <li>Contain +20 000 duplicated values that need handling</li>\n",
    "        <li>Dataset includes binary, continuous, and ordinal features related to health indicators</li>\n",
    "    </ul>\n",
    "    <h3>2. Feature Distributions</h3>\n",
    "    <ul>\n",
    "        <li><strong>Binary features</strong>: Many show significant imbalance (e.g., CholCheck, Stroke, HeartDiseaseorAttack)</li>\n",
    "        <li><strong>Continuous features</strong>: All three (BMI, MentHlth, PhysHlth) are skewed and contain outliers</li>\n",
    "        <li><strong>Ordinal features</strong>: GenHlth and Age follow log-normal distributions; Education and Income are left-skewed</li>\n",
    "    </ul>\n",
    "    <h3>3. Target Class Imbalance</h3>\n",
    "    <ul>\n",
    "        <li><strong>Severe imbalance</strong>: 84% No Diabetes, 1.8% Prediabetes, 13.9% Diabetes</li>\n",
    "        <li>Prediabetes class is particularly underrepresented, posing a significant challenge for classification</li>\n",
    "    </ul>\n",
    "    <h3>4. Feature Correlations</h3>\n",
    "    <ul>\n",
    "        <li><strong>Positive correlations</strong> with diabetes: GenHlth, HighBP, BMI, DiffWalk, HighChol, Age</li>\n",
    "        <li><strong>Negative correlations</strong> with diabetes: Income, Education</li>\n",
    "        <li>Several features show strong interrelationships, suggesting opportunities for dimensionality reduction</li>\n",
    "    </ul>\n",
    "    <h3>5. Feature Importance</h3>\n",
    "    <ul>\n",
    "        <li><strong>Top 5 features</strong>: BMI, Age, Income, PhysHlth, Education</li>\n",
    "        <li>These align with established diabetes risk factors in medical literature</li>\n",
    "    </ul>\n",
    "    <h2 style=\"margin-top: 30px;\">Recommendations for Next Steps</h2>\n",
    "    <h3>1. Data Preprocessing</h3>\n",
    "    <ul>\n",
    "        <li><strong>Feature scaling</strong>: Apply appropriate scaling (e.g., StandardScaler) to continuous features</li>\n",
    "        <li><strong>Outlier treatment</strong>: Consider capping or transforming outliers in BMI, MentHlth, and PhysHlth</li>\n",
    "        <li><strong>Feature transformation</strong>: Apply log or other transformations to highly skewed features</li>\n",
    "    </ul>\n",
    "    <h3>2. Feature Engineering</h3>\n",
    "    <ul>\n",
    "        <li><strong>Implement planned composite features</strong> from the masterplan document:</li>\n",
    "        <ul>\n",
    "            <li>Health Score combining GenHlth, MentHlth, and PhysHlth</li>\n",
    "            <li>Risk Score combining HighBP, HighChol, HeartDiseaseorAttack, BMI, and Age</li>\n",
    "            <li>Age-BMI interaction term</li>\n",
    "        </ul>\n",
    "        <li><strong>Create additional interaction features</strong> based on correlation analysis</li>\n",
    "        <li><strong>Consider dimensionality reduction</strong> for highly correlated features (PCA or feature selection)</li>\n",
    "    </ul>\n",
    "    <h3>3. Class Imbalance Handling</h3>\n",
    "    <ul>\n",
    "        <li><strong>Apply SMOTE</strong> as planned to generate synthetic samples for minority classes</li>\n",
    "        <li><strong>Explore SMOTE variants</strong> like Borderline-SMOTE or ADASYN which may better handle the extreme imbalance</li>\n",
    "        <li><strong>Consider class weights</strong> in model training to penalize misclassification of minority classes</li>\n",
    "        <li><strong>Evaluate alternative sampling techniques</strong> like SMOTETomek or SMOTEnn for better boundary definition</li>\n",
    "    </ul>\n",
    "    <h3>4. Modeling Strategy</h3>\n",
    "    <ul>\n",
    "        <li><strong>Focus on tree-based models</strong> which perform well with the identified important features</li>\n",
    "        <li><strong>Prioritize XGBoost and Random Forest</strong> given the feature importance patterns</li>\n",
    "        <li><strong>Implement stratified cross-validation</strong> to maintain class distribution across folds</li>\n",
    "        <li><strong>Optimize for recall</strong> especially for the Prediabetes class, which is severely underrepresented</li>\n",
    "    </ul>\n",
    "</div>"
   ]
  }
 ],
 "metadata": {
  "kernelspec": {
   "display_name": ".venv",
   "language": "python",
   "name": "python3"
  },
  "language_info": {
   "codemirror_mode": {
    "name": "ipython",
    "version": 3
   },
   "file_extension": ".py",
   "mimetype": "text/x-python",
   "name": "python",
   "nbconvert_exporter": "python",
   "pygments_lexer": "ipython3",
   "version": "3.11.7"
  }
 },
 "nbformat": 4,
 "nbformat_minor": 4
}
