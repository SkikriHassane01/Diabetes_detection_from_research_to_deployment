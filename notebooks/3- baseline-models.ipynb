{
 "cells": [
  {
   "cell_type": "markdown",
   "metadata": {},
   "source": [
    "<div style=\"background-color: #3D3D3A; padding: 20px; border-radius: 10px; margin-bottom: 20px;\">\n",
    "    <h1 style=\"color: white; text-align: center; margin: 0;\">🤖 Diabetes Binary Classification: Baseline Models</h1>\n",
    "    <p style=\"color: #CCCCCC; text-align: center; margin-top: 10px;\">Model Training and Evaluation Pipeline</p>\n",
    "</div>"
   ]
  },
  {
   "cell_type": "markdown",
   "metadata": {},
   "source": [
    "<div style=\"background-color: #3D3D3A; padding: 15px; border-radius: 8px; margin-bottom: 20px;\">\n",
    "    <h2 style=\"color: white; margin: 0;\">📋 Overview</h2>\n",
    "    <p style=\"color: #CCCCCC; margin-top: 10px;\">This notebook implements the baseline models training and evaluation pipeline for binary diabetes classification.</p>\n",
    "    <ul style=\"color: #CCCCCC;\">\n",
    "        <li>Load preprocessed data</li>\n",
    "        <li>Train multiple classifier models</li>\n",
    "        <li>Evaluate performance metrics</li>\n",
    "        <li>Compare and visualize results</li>\n",
    "    </ul>\n",
    "</div>"
   ]
  },
  {
   "cell_type": "markdown",
   "metadata": {},
   "source": [
    "<div style=\"background-color: #3D3D3A; padding: 15px; border-radius: 8px; margin: 20px 0;\">\n",
    "    <h2 style=\"color: white; margin: 0;\">📚 Import Required Libraries</h2>\n",
    "</div>"
   ]
  },
  {
   "cell_type": "code",
   "execution_count": 1,
   "metadata": {},
   "outputs": [],
   "source": [
    "import pandas as pd\n",
    "import numpy as np\n",
    "from pathlib import Path\n",
    "import warnings\n",
    "import sys\n",
    "\n",
    "warnings.filterwarnings('ignore')\n",
    "\n",
    "sys.path.append(str(Path.cwd().parent))\n",
    "\n",
    "# Import custom modules\n",
    "from src.evaluation.performance_metrics import PerformanceMetrics\n",
    "from src.evaluation.performance_visualization import PerformanceVisualizer\n",
    "from src.data.data_versioning import DataVersioner\n",
    "from src.training.Training import DiabetesModelTrainer\n",
    "\n",
    "# Set random seed\n",
    "np.random.seed(42)"
   ]
  },
  {
   "cell_type": "markdown",
   "metadata": {},
   "source": [
    "<div style=\"background-color: #3D3D3A; padding: 15px; border-radius: 8px; margin: 20px 0;\">\n",
    "    <h2 style=\"color: white; margin: 0;\">📥 Load and Prepare Data</h2>\n",
    "</div>"
   ]
  },
  {
   "cell_type": "code",
   "execution_count": 2,
   "metadata": {},
   "outputs": [
    {
     "name": "stdout",
     "output_type": "stream",
     "text": [
      "[2025-02-24 20:51:57] |     INFO | [data_versioning.py:  32] | data_versioning | Using existing Mlflow experiment: diabetes_classification\n",
      "[2025-02-24 20:51:57] |     INFO | [data_versioning.py: 129] | data_versioning | Loading dataset from local path: ..\\data\\versions\\diabetes_processed_2025_02_24_02_27_54\\diabetes_processed.csv\n",
      "Dataset Shape: (159490, 21)\n",
      "\n",
      "Feature Names:\n",
      "['gender', 'age', 'hypertension', 'heart_disease', 'smoking_history', 'bmi', 'HbA1c_level', 'blood_glucose_level', 'bmi_category', 'age_risk', 'age_bmi_interaction', 'medical_risk_score', 'metabolic_score', 'smoking_risk', 'lifestyle_score', 'age_hypertension', 'age_heart_disease', 'cardio_metabolic_risk', 'combined_risk_score', 'diabetes', 'split']\n",
      "\n",
      "Class Distribution:\n",
      "diabetes\n",
      "0    0.549652\n",
      "1    0.450348\n",
      "Name: proportion, dtype: float64\n"
     ]
    }
   ],
   "source": [
    "# Load the preprocessed version\n",
    "data_versioner = DataVersioner(base_dir='../data')\n",
    "data = data_versioner.get_version(\"2025_02_24_02_27_54\")\n",
    "\n",
    "# Display basic information\n",
    "print(\"Dataset Shape:\", data.shape)\n",
    "print(\"\\nFeature Names:\")\n",
    "print(data.columns.tolist())\n",
    "print(\"\\nClass Distribution:\")\n",
    "print(data['diabetes'].value_counts(normalize=True))"
   ]
  },
  {
   "cell_type": "markdown",
   "metadata": {},
   "source": [
    "<div style=\"background-color: #3D3D3A; padding: 15px; border-radius: 8px; margin: 20px 0;\">\n",
    "    <h2 style=\"color: white; margin: 0;\">🤖 Train Models</h2>\n",
    "</div>"
   ]
  },
  {
   "cell_type": "code",
   "execution_count": 3,
   "metadata": {},
   "outputs": [
    {
     "name": "stdout",
     "output_type": "stream",
     "text": [
      "[2025-02-24 20:51:57] |     INFO | [Training.py:  44] |        training | Initialized DiabetesModelTrainer with experiment: diabetes_classification\n",
      "[2025-02-24 20:51:57] |     INFO | [Training.py:  68] |        training | Preparing data for training...\n",
      "[2025-02-24 20:51:57] |     INFO | [Training.py: 117] |        training | Data prepared successfully. Train set: (140260, 19), Test set: (19230, 19)\n",
      "Training Data Shape: (140260, 19)\n",
      "Testing Data Shape: (19230, 19)\n"
     ]
    }
   ],
   "source": [
    "# Initialize trainer\n",
    "trainer = DiabetesModelTrainer()\n",
    "\n",
    "# Prepare data\n",
    "X_train, X_test, y_train, y_test = trainer.prepare_data(\n",
    "    data=data,\n",
    "    target_column='diabetes',\n",
    "    already_split=True\n",
    ")\n",
    "\n",
    "print(\"Training Data Shape:\", X_train.shape)\n",
    "print(\"Testing Data Shape:\", X_test.shape)"
   ]
  },
  {
   "cell_type": "code",
   "execution_count": 4,
   "metadata": {},
   "outputs": [],
   "source": [
    "# # Train all models using train_multiple_models\n",
    "\n",
    "# models_config = [\n",
    "#     {'name': 'logistic_regression', 'params': None},\n",
    "#     {'name': 'random_forest', 'params': None},\n",
    "#     {'name': 'xgboost', 'params': None},\n",
    "#     {'name': 'lightgbm', 'params': None},\n",
    "#     {'name': 'catboost', 'params': None}\n",
    "# ]\n",
    "# trained_models = trainer.train_multiple_models(\n",
    "#     X_train=X_train,\n",
    "#     models_config=models_config,\n",
    "#     y_train=y_train,\n",
    "#     cv_folds=5\n",
    "# )\n",
    "\n",
    "# print(\"\\nTraining completed for models:\", list(trained_models.keys()))"
   ]
  },
  {
   "cell_type": "markdown",
   "metadata": {},
   "source": [
    "<div style=\"background-color: #3D3D3A; padding: 15px; border-radius: 8px; margin: 20px 0;\">\n",
    "    <h2 style=\"color: white; margin: 0;\">📊 Evaluate Models</h2>\n",
    "</div>"
   ]
  },
  {
   "cell_type": "code",
   "execution_count": 5,
   "metadata": {},
   "outputs": [],
   "source": [
    "# # Evaluate all models\n",
    "# summary_df, evaluation_results = trainer.evaluate_models(\n",
    "#     models_results=trained_models,\n",
    "#     X_test=X_test,\n",
    "#     y_test=y_test\n",
    "# )\n",
    "\n",
    "# # Display summary metrics\n",
    "# print(\"\\nModel Performance Summary:\")\n",
    "# display(summary_df.style.format({\n",
    "#     'Train Accuracy': '{:.3f}',\n",
    "#     'Test Accuracy': '{:.3f}',\n",
    "#     'Train F1 (Macro)': '{:.3f}',\n",
    "#     'Test F1 (Macro)': '{:.3f}'\n",
    "# }).background_gradient(cmap='RdYlGn'))"
   ]
  },
  {
   "cell_type": "markdown",
   "metadata": {},
   "source": [
    "<div style=\"background-color: #3D3D3A; padding: 20px; border-radius: 10px; margin: 20px 0;\">\n",
    "    <h2 style=\"color: white; margin: 0;\">💡 Conclusions</h2>\n",
    "    <p style=\"color: #CCCCCC; margin-top: 10px;\">Based on the evaluation results:</p>\n",
    "    <ul style=\"color: #CCCCCC;\">\n",
    "        <li>Compare model performances across different metrics</li>\n",
    "        <li>Identify best performing model for different use cases</li>\n",
    "        <li>Analyze confusion matrices for misclassification patterns</li>\n",
    "        <li>Consider trade-offs between precision and recall</li>\n",
    "    </ul>\n",
    "</div>"
   ]
  },
  {
   "cell_type": "code",
   "execution_count": null,
   "metadata": {},
   "outputs": [
    {
     "name": "stdout",
     "output_type": "stream",
     "text": [
      "[2025-02-24 20:51:57] |     INFO | [hyperparameter_tuner.py:  60] | hyperparameter_tuner | Initialized CatBoostHyperparameterTuner with 20 trials\n",
      "[2025-02-24 20:51:57] |     INFO | [hyperparameter_tuner.py:  61] | hyperparameter_tuner | Optimization weights: Recall=0.70, Accuracy=0.30\n",
      "[2025-02-24 20:51:57] |     INFO | [hyperparameter_tuner.py:  75] | hyperparameter_tuner | Starting hyperparameter optimization with 20 trials\n"
     ]
    },
    {
     "name": "stderr",
     "output_type": "stream",
     "text": [
      "[I 2025-02-24 20:51:57,654] A new study created in memory with name: no-name-0daef5f2-8ad4-4698-9c3b-bb5258074841\n",
      "[I 2025-02-24 20:53:06,023] Trial 0 finished with value: 0.9689127235057025 and parameters: {'iterations': 833, 'learning_rate': 0.059455702552193845, 'depth': 4, 'l2_leaf_reg': 2.0126270550930567e-06, 'random_strength': 0.7060800471071709, 'bagging_temperature': 6.43667170377921, 'border_count': 132, 'boosting_type': 'Ordered'}. Best is trial 0 with value: 0.9689127235057025.\n",
      "[I 2025-02-24 20:53:32,792] Trial 1 finished with value: 0.9708904844660333 and parameters: {'iterations': 541, 'learning_rate': 0.0692559414864544, 'depth': 6, 'l2_leaf_reg': 5.31846696355123, 'random_strength': 0.00860556095075302, 'bagging_temperature': 2.991220547260208, 'border_count': 46, 'boosting_type': 'Plain'}. Best is trial 1 with value: 0.9708904844660333.\n",
      "[I 2025-02-24 20:57:06,860] Trial 2 finished with value: 0.9694845184586871 and parameters: {'iterations': 613, 'learning_rate': 0.06740032215907009, 'depth': 10, 'l2_leaf_reg': 7.387001364182284e-05, 'random_strength': 2.7748504641277213e-06, 'bagging_temperature': 4.177384068968886, 'border_count': 229, 'boosting_type': 'Ordered'}. Best is trial 1 with value: 0.9708904844660333.\n",
      "[I 2025-02-24 21:06:04,982] Trial 3 finished with value: 0.9689476521654491 and parameters: {'iterations': 792, 'learning_rate': 0.016833278161074383, 'depth': 9, 'l2_leaf_reg': 1.4163563875804646, 'random_strength': 1.3555908856300454e-07, 'bagging_temperature': 1.1524384437546031, 'border_count': 232, 'boosting_type': 'Ordered'}. Best is trial 1 with value: 0.9708904844660333.\n",
      "[I 2025-02-24 21:09:43,793] Trial 4 finished with value: 0.9691073543331622 and parameters: {'iterations': 605, 'learning_rate': 0.04082745485989273, 'depth': 8, 'l2_leaf_reg': 0.18074469173303062, 'random_strength': 0.006454524027125527, 'bagging_temperature': 2.651163178094179, 'border_count': 205, 'boosting_type': 'Ordered'}. Best is trial 1 with value: 0.9708904844660333.\n",
      "[I 2025-02-24 21:09:52,648] Trial 5 finished with value: 0.9697283721868628 and parameters: {'iterations': 989, 'learning_rate': 0.2596484846535766, 'depth': 9, 'l2_leaf_reg': 1.7895823290655732e-05, 'random_strength': 8.288856238853434e-07, 'bagging_temperature': 0.7871343352045046, 'border_count': 197, 'boosting_type': 'Plain'}. Best is trial 1 with value: 0.9708904844660333.\n",
      "[I 2025-02-24 21:09:56,589] Trial 6 finished with value: 0.958889906015456 and parameters: {'iterations': 102, 'learning_rate': 0.11373472923579404, 'depth': 4, 'l2_leaf_reg': 0.07482224514362336, 'random_strength': 4.5961048272056217e-07, 'bagging_temperature': 9.51921835450803, 'border_count': 75, 'boosting_type': 'Plain'}. Best is trial 1 with value: 0.9708904844660333.\n",
      "[I 2025-02-24 21:10:14,069] Trial 7 finished with value: 0.9660851066501598 and parameters: {'iterations': 212, 'learning_rate': 0.019530040197500372, 'depth': 7, 'l2_leaf_reg': 0.00048387677241549804, 'random_strength': 0.05375547634021672, 'bagging_temperature': 5.3220982421470975, 'border_count': 255, 'boosting_type': 'Plain'}. Best is trial 1 with value: 0.9708904844660333.\n"
     ]
    }
   ],
   "source": [
    "from src.Optimization.hyperparameter_tuner import CatBoostHyperparameterTuner\n",
    "tuner = CatBoostHyperparameterTuner(\n",
    "    experiment_name=\"diabetes_catboost_optimization\",\n",
    "    n_trials=20,\n",
    "    cv_folds=3,\n",
    "    recall_weight=0.7,\n",
    "    accuracy_weight=0.3\n",
    ")\n",
    "\n",
    "# Run the optimization\n",
    "optimization_results = tuner.optimize(X_train, y_train)\n",
    "best_params = optimization_results['best_params']"
   ]
  },
  {
   "cell_type": "code",
   "execution_count": 7,
   "metadata": {},
   "outputs": [
    {
     "name": "stdout",
     "output_type": "stream",
     "text": [
      "[2025-02-24 20:40:44] |     INFO | [hyperparameter_tuner.py: 203] | hyperparameter_tuner | Training final model with best parameters\n",
      "[2025-02-24 20:40:49] |     INFO | [hyperparameter_tuner.py: 216] | hyperparameter_tuner | Saved optimized model to models/optimized\\catboost_optimized.pkl\n"
     ]
    },
    {
     "name": "stderr",
     "output_type": "stream",
     "text": [
      "2025/02/24 20:40:53 WARNING mlflow.models.model: Model logged without a signature and input example. Please set `input_example` parameter when logging the model to auto infer the model signature.\n"
     ]
    }
   ],
   "source": [
    "final_model = tuner.train_final_model(X_train, y_train, best_params)"
   ]
  },
  {
   "cell_type": "code",
   "execution_count": 8,
   "metadata": {},
   "outputs": [
    {
     "name": "stdout",
     "output_type": "stream",
     "text": [
      "\n",
      "--- Optimized CatBoost Model Performance ---\n",
      "              precision    recall  f1-score   support\n",
      "\n",
      "           0       0.97      1.00      0.98     17534\n",
      "           1       0.95      0.70      0.81      1696\n",
      "\n",
      "    accuracy                           0.97     19230\n",
      "   macro avg       0.96      0.85      0.89     19230\n",
      "weighted avg       0.97      0.97      0.97     19230\n",
      "\n",
      "ROC-AUC Score: 0.974260183987552\n",
      "\n",
      "Confusion Matrix:\n",
      "[[17473    61]\n",
      " [  511  1185]]\n"
     ]
    }
   ],
   "source": [
    "from sklearn.metrics import classification_report, confusion_matrix, roc_auc_score\n",
    "\n",
    "\n",
    "y_pred = final_model.predict(X_test)\n",
    "y_pred_proba = final_model.predict_proba(X_test)[:, 1]\n",
    "\n",
    "# Print classification report\n",
    "print(\"\\n--- Optimized CatBoost Model Performance ---\")\n",
    "print(classification_report(y_test, y_pred))\n",
    "print(\"ROC-AUC Score:\", roc_auc_score(y_test, y_pred_proba))\n",
    "print(\"\\nConfusion Matrix:\")\n",
    "print(confusion_matrix(y_test, y_pred))"
   ]
  }
 ],
 "metadata": {
  "kernelspec": {
   "display_name": ".venv",
   "language": "python",
   "name": "python3"
  },
  "language_info": {
   "codemirror_mode": {
    "name": "ipython",
    "version": 3
   },
   "file_extension": ".py",
   "mimetype": "text/x-python",
   "name": "python",
   "nbconvert_exporter": "python",
   "pygments_lexer": "ipython3",
   "version": "3.11.7"
  }
 },
 "nbformat": 4,
 "nbformat_minor": 4
}
