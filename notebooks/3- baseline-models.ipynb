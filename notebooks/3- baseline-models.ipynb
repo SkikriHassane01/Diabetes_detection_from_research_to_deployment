{
 "cells": [
  {
   "cell_type": "markdown",
   "metadata": {},
   "source": [
    "<div style=\"background-color: #3D3D3A; padding: 20px; border-radius: 10px; margin-bottom: 20px;\">\n",
    "    <h1 style=\"color: white; text-align: center; margin: 0;\">🔍 Diabetes Classification Model Evaluation</h1>\n",
    "</div>\n",
    "\n",
    "<div style=\"background-color: #3D3D3A; padding: 15px; border-radius: 8px; margin-bottom: 20px;\">\n",
    "    <p style=\"color: white; margin: 0;\">This notebook provides a comprehensive evaluation of our diabetes classification models. We'll:</p>\n",
    "    <ul style=\"color: white; margin: 10px 0 0 0;\">\n",
    "        <li>Load the preprocessed data</li>\n",
    "        <li>Train multiple classification models</li>\n",
    "        <li>Calculate and compare performance metrics</li>\n",
    "        <li>Visualize results with professional plots</li>\n",
    "    </ul>\n",
    "</div>"
   ]
  },
  {
   "cell_type": "markdown",
   "metadata": {},
   "source": [
    "<div style=\"background-color: #3D3D3A; padding: 15px; border-radius: 8px; margin: 20px 0;\">\n",
    "    <h2 style=\"color: white; margin: 0;\">📚 Import Required Libraries</h2>\n",
    "</div>"
   ]
  },
  {
   "cell_type": "code",
   "execution_count": 1,
   "metadata": {},
   "outputs": [],
   "source": [
    "import pandas as pd\n",
    "import numpy as np\n",
    "import sys\n",
    "from pathlib import Path\n",
    "import warnings \n",
    "warnings.filterwarnings('ignore')\n",
    "\n",
    "sys.path.append(str(Path.cwd().parent))\n",
    "\n",
    "# Import our custom modules\n",
    "from src.models.model_factory import ModelFactory\n",
    "from src.evaluation.performance_metrics import PerformanceMetrics\n",
    "from src.evaluation.performance_visualization import PerformanceVisualizer\n",
    "from src.data.data_versioning import DataVersioner\n",
    "from src.training.Training import DiabetesModelTrainer\n",
    "\n",
    "# Set random seed for reproducibility\n",
    "np.random.seed(42)"
   ]
  },
  {
   "cell_type": "markdown",
   "metadata": {},
   "source": [
    "<div style=\"background-color: #3D3D3A; padding: 15px; border-radius: 8px; margin: 20px 0;\">\n",
    "    <h2 style=\"color: white; margin: 0;\">📥 Load and Prepare Data</h2>\n",
    "</div>"
   ]
  },
  {
   "cell_type": "code",
   "execution_count": null,
   "metadata": {},
   "outputs": [],
   "source": [
    "data_versioner = DataVersioner(base_dir='../data')\n",
    "data = data_versioner.get_version(\"2025_02_23_16_22_58\") # the preprocessed data version"
   ]
  },
  {
   "cell_type": "code",
   "execution_count": 3,
   "metadata": {},
   "outputs": [],
   "source": [
    "# drop all the records where the Diabetes is 1\n",
    "\n",
    "data = data.drop(data[data['Diabetes_012'] == 1].index)"
   ]
  },
  {
   "cell_type": "code",
   "execution_count": 4,
   "metadata": {},
   "outputs": [],
   "source": [
    "# data.value_counts(['Diabetes_012'])"
   ]
  },
  {
   "cell_type": "markdown",
   "metadata": {},
   "source": []
  },
  {
   "cell_type": "markdown",
   "metadata": {},
   "source": [
    "<div style=\"background-color: #3D3D3A; padding: 15px; border-radius: 8px; margin: 20px 0;\">\n",
    "    <h2 style=\"color: white; margin: 0;\">🤖 Train Models</h2>\n",
    "</div>"
   ]
  },
  {
   "cell_type": "code",
   "execution_count": 5,
   "metadata": {},
   "outputs": [],
   "source": [
    "# from src.training.imbalance_handler import ImbalanceHandler\n",
    "# data = pd.read_csv('../data/extracted/diabetes.csv')\n",
    "\n",
    "# imbalance_handler = ImbalanceHandler()\n",
    "\n",
    "# X = data.drop('Diabetes', axis=1)\n",
    "# y = data['Diabetes']\n",
    "\n",
    "# X_train, X_test, y_train, y_test = imbalance_handler.split_and_resample(X, y)\n"
   ]
  },
  {
   "cell_type": "code",
   "execution_count": 6,
   "metadata": {},
   "outputs": [],
   "source": [
    "# y_train.value_counts()"
   ]
  },
  {
   "cell_type": "code",
   "execution_count": null,
   "metadata": {},
   "outputs": [],
   "source": [
    "trainer = DiabetesModelTrainer()\n",
    "\n",
    "X_train, X_test, y_train, y_test = trainer.prepare_data(data=data, already_split=True, target_column='Diabetes')"
   ]
  },
  {
   "cell_type": "code",
   "execution_count": null,
   "metadata": {},
   "outputs": [],
   "source": [
    "trained_models  = trainer.train_models(X_train, y_train)"
   ]
  },
  {
   "cell_type": "code",
   "execution_count": null,
   "metadata": {},
   "outputs": [],
   "source": [
    "summary_df, detailed_results = trainer.evaluate_models(trained_models, X_test, y_test)"
   ]
  },
  {
   "cell_type": "markdown",
   "metadata": {},
   "source": [
    "<div style=\"background-color: #3D3D3A; padding: 15px; border-radius: 8px; margin: 20px 0;\">\n",
    "    <h2 style=\"color: white; margin: 0;\">📊 Calculate Performance Metrics</h2>\n",
    "</div>"
   ]
  },
  {
   "cell_type": "code",
   "execution_count": null,
   "metadata": {},
   "outputs": [],
   "source": [
    "# Initialize metrics calculator\n",
    "metrics = PerformanceMetrics()\n",
    "\n",
    "# Calculate metrics for all models\n",
    "results = metrics.compare_models(models, X_train, y_train)\n",
    "\n",
    "# Get summary DataFrames\n",
    "summary_df = metrics.get_summary_df(results)\n",
    "per_class_dfs = metrics.get_per_class_df(results)\n",
    "\n",
    "# Display overall performance summary\n",
    "print(\"Overall Performance Summary:\")\n",
    "display(summary_df.style.format({\n",
    "    'Accuracy': '{:.3f}',\n",
    "    'Precision': '{:.3f}',\n",
    "    'Recall': '{:.3f}',\n",
    "    'F1 Score': '{:.3f}'\n",
    "}).background_gradient(cmap='RdYlGn'))"
   ]
  },
  {
   "cell_type": "markdown",
   "metadata": {},
   "source": [
    "<div style=\"background-color: #3D3D3A; padding: 15px; border-radius: 8px; margin: 20px 0;\">\n",
    "    <h2 style=\"color: white; margin: 0;\">📈 Visualize Results</h2>\n",
    "</div>"
   ]
  },
  {
   "cell_type": "code",
   "execution_count": null,
   "metadata": {},
   "outputs": [],
   "source": [
    "# Initialize visualizer\n",
    "visualizer = PerformanceVisualizer(save_dir='reports/metrics_visualizations')\n",
    "\n",
    "# Plot overall metrics comparison\n",
    "visualizer.plot_overall_metrics(summary_df, \n",
    "                               title=\"Model Performance Comparison\",\n",
    "                               figsize=(12, 6))\n",
    "\n",
    "# Plot confusion matrices\n",
    "visualizer.plot_confusion_matrices(results, figsize=(20, 5))\n",
    "\n",
    "# Plot per-class metrics\n",
    "visualizer.plot_per_class_metrics(per_class_dfs, figsize=(20, 6))"
   ]
  },
  {
   "cell_type": "markdown",
   "metadata": {},
   "source": [
    "<div style=\"background-color: #3D3D3A; padding: 20px; border-radius: 10px; margin: 20px 0;\">\n",
    "    <h2 style=\"color: white; margin: 0 0 10px 0;\">🔍 Analysis Summary</h2>\n",
    "    <p style=\"color: white; margin: 0;\">Based on the evaluation results:</p>\n",
    "    <ul style=\"color: white; margin: 10px 0 0 0;\">\n",
    "        <li>Compare the performance of different models</li>\n",
    "        <li>Analyze per-class performance to identify strengths and weaknesses</li>\n",
    "        <li>Look for patterns in the confusion matrices</li>\n",
    "        <li>Consider the trade-offs between different metrics</li>\n",
    "    </ul>\n",
    "</div>"
   ]
  }
 ],
 "metadata": {
  "kernelspec": {
   "display_name": ".venv",
   "language": "python",
   "name": "python3"
  },
  "language_info": {
   "codemirror_mode": {
    "name": "ipython",
    "version": 3
   },
   "file_extension": ".py",
   "mimetype": "text/x-python",
   "name": "python",
   "nbconvert_exporter": "python",
   "pygments_lexer": "ipython3",
   "version": "3.11.7"
  }
 },
 "nbformat": 4,
 "nbformat_minor": 4
}
