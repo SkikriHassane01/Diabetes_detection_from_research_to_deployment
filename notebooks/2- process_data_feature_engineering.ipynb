{
 "cells": [
  {
   "cell_type": "markdown",
   "metadata": {},
   "source": [
    "<div style=\"background-color: #3D3D3A; padding: 20px; border-radius: 10px; margin-bottom: 20px;\">\n",
    "    <h1 style=\"color: #FFFFFF; text-align: center; margin: 0;\">🔄 Data Processing and Feature Engineering Pipeline</h1>\n",
    "    <p style=\"color: #CCCCCC; text-align: center; margin-top: 10px;\">Preprocessing, Feature Engineering & Data Versioning</p>\n",
    "</div>"
   ]
  },
  {
   "cell_type": "markdown",
   "metadata": {},
   "source": [
    "<div style=\"background-color: #2E2E2B; padding: 15px; border-radius: 8px; margin: 10px 0;\">\n",
    "    <h2 style=\"color: #FFFFFF; margin-top: 0;\">📚 Import Required Libraries</h2>\n",
    "</div>"
   ]
  },
  {
   "cell_type": "code",
   "execution_count": 13,
   "metadata": {},
   "outputs": [],
   "source": [
    "import os\n",
    "import pandas as pd\n",
    "import numpy as np\n",
    "from pathlib import Path\n",
    "import warnings\n",
    "import sys\n",
    "warnings.filterwarnings('ignore')\n",
    "\n",
    "sys.path.append(str(Path.cwd().parent))\n",
    "\n",
    "from src.data.data_processing import DataProcessor\n",
    "from src.data.data_versioning import DataVersioner\n",
    "from src.features.feature_engineering import FeatureEngineer\n",
    "from src.training.imbalance_handler import ImbalanceHandler"
   ]
  },
  {
   "cell_type": "markdown",
   "metadata": {},
   "source": [
    "<div style=\"background-color: #2E2E2B; padding: 15px; border-radius: 8px; margin: 10px 0;\">\n",
    "    <h2 style=\"color: #FFFFFF; margin-top: 0;\">📥 Load Data</h2>\n",
    "</div>"
   ]
  },
  {
   "cell_type": "code",
   "execution_count": null,
   "metadata": {},
   "outputs": [],
   "source": [
    "# Load the diabetes dataset\n",
    "data_path = Path('../data/extracted/diabetes_data/diabetes_012_health_indicators_BRFSS2015.csv')\n",
    "data = pd.read_csv(data_path)\n",
    "\n",
    "print(f\"Loaded data shape: {data.shape}\")\n",
    "display(data.head())"
   ]
  },
  {
   "cell_type": "markdown",
   "metadata": {},
   "source": [
    "<div style=\"background-color: #2E2E2B; padding: 15px; border-radius: 8px; margin: 10px 0;\">\n",
    "    <h2 style=\"color: #FFFFFF; margin-top: 0;\">🔍 Initial Data Analysis</h2>\n",
    "</div>"
   ]
  },
  {
   "cell_type": "code",
   "execution_count": null,
   "metadata": {},
   "outputs": [],
   "source": [
    "# Display initial statistics\n",
    "print(\"\\nMissing Values:\")\n",
    "display(data.isnull().sum())\n",
    "\n",
    "print(\"\\nDuplicate Rows:\", data.duplicated().sum())\n",
    "\n",
    "print(\"\\nStatistics for Key Features:\")\n",
    "display(data[['BMI', 'MentHlth', 'PhysHlth']].describe())"
   ]
  },
  {
   "cell_type": "markdown",
   "metadata": {},
   "source": [
    "<div style=\"background-color: #2E2E2B; padding: 15px; border-radius: 8px; margin: 10px 0;\">\n",
    "    <h2 style=\"color: #FFFFFF; margin-top: 0;\">⚙️ Feature Engineering</h2>\n",
    "</div>"
   ]
  },
  {
   "cell_type": "code",
   "execution_count": null,
   "metadata": {},
   "outputs": [],
   "source": [
    "fe = FeatureEngineer()\n",
    "fe_dataset = fe.transform(data)\n",
    "fe_dataset.head()\n"
   ]
  },
  {
   "cell_type": "markdown",
   "metadata": {},
   "source": [
    "<div style=\"background-color: #2E2E2B; padding: 15px; border-radius: 8px; margin: 10px 0;\">\n",
    "    <h2 style=\"color: #FFFFFF; margin-top: 0;\">⚙️ Initialize Data Processor</h2>\n",
    "</div>"
   ]
  },
  {
   "cell_type": "code",
   "execution_count": null,
   "metadata": {},
   "outputs": [],
   "source": [
    "# Initialize the DataProcessor with configuration\n",
    "processor_config = {\n",
    "    'health_features': ['MentHlth', 'PhysHlth'],\n",
    "    'bmi_feature': 'BMI',\n",
    "    'target_column': 'Diabetes_012',\n",
    "    'outlier_threshold': 3.0\n",
    "}\n",
    "\n",
    "processor = DataProcessor(config=processor_config)"
   ]
  },
  {
   "cell_type": "markdown",
   "metadata": {},
   "source": [
    "<div style=\"background-color: #2E2E2B; padding: 15px; border-radius: 8px; margin: 10px 0;\">\n",
    "    <h2 style=\"color: #FFFFFF; margin-top: 0;\">🔄 Process Data</h2>\n",
    "</div>"
   ]
  },
  {
   "cell_type": "code",
   "execution_count": null,
   "metadata": {},
   "outputs": [],
   "source": [
    "# Process the data using our pipeline\n",
    "X_train, X_test, y_train, y_test = processor.process_data(fe_dataset)\n",
    "\n",
    "# Print statistics for training data\n",
    "print(\"\\nTraining Data Statistics:\")\n",
    "display(X_train[['BMI', 'MentHlth', 'PhysHlth']].describe())\n",
    "\n",
    "# Print statistics for test data\n",
    "print(\"\\nTest Data Statistics:\")\n",
    "display(X_test[['BMI', 'MentHlth', 'PhysHlth']].describe())\n",
    "\n",
    "# Compare shapes\n",
    "print(f\"\\nOriginal data shape: {fe_dataset.shape}\")\n",
    "print(f\"Training data shape: {X_train.shape}\")\n",
    "print(f\"Test data shape: {X_test.shape}\")"
   ]
  },
  {
   "cell_type": "markdown",
   "metadata": {},
   "source": [
    "<div style=\"background-color: #2E2E2B; padding: 15px; border-radius: 8px; margin: 10px 0;\">\n",
    "    <h2 style=\"color: #FFFFFF; margin-top: 0;\">🔄 Handle the imbalance target</h2>\n",
    "</div>"
   ]
  },
  {
   "cell_type": "code",
   "execution_count": null,
   "metadata": {},
   "outputs": [],
   "source": [
    "imbalance_handler = ImbalanceHandler()\n",
    "\n",
    "# Handle imbalance in the training data\n",
    "X_train_balanced, y_train_balanced = imbalance_handler.resample(X_train, y_train)\n",
    "\n",
    "# Compare shapes\n",
    "print(f\"\\nTraining data shape: {X_train.shape}\")\n",
    "print(f\"Balanced training data shape: {X_train_balanced.shape}\")\n",
    "\n",
    "# Compare class distributions\n",
    "print(\"\\nClass Distribution in Training Data:\")\n",
    "display(y_train.value_counts(normalize=True))\n",
    "\n",
    "print(\"\\nClass Distribution in Balanced Training Data:\")\n",
    "display(y_train_balanced.value_counts(normalize=True))\n"
   ]
  },
  {
   "cell_type": "markdown",
   "metadata": {},
   "source": [
    "<div style=\"background-color: #2E2E2B; padding: 15px; border-radius: 8px; margin: 10px 0;\">\n",
    "    <h2 style=\"color: #FFFFFF; margin-top: 0;\">💾 Version the Processed Data</h2>\n",
    "</div>"
   ]
  },
  {
   "cell_type": "code",
   "execution_count": null,
   "metadata": {},
   "outputs": [],
   "source": [
    "X_train_balanced['Diabetes_012'] = y_train_balanced\n",
    "X_test['Diabetes_012'] = y_test\n",
    "X_train_balanced['split'] = 'train'\n",
    "X_test['split'] = 'test'\n",
    "\n",
    "processed_data = pd.concat([X_train_balanced, X_test], axis=0, ignore_index=True)\n",
    "processed_data.head()"
   ]
  },
  {
   "cell_type": "code",
   "execution_count": null,
   "metadata": {},
   "outputs": [],
   "source": [
    "processed_data.value_counts(['Diabetes_012'], normalize=True)"
   ]
  },
  {
   "cell_type": "code",
   "execution_count": null,
   "metadata": {},
   "outputs": [],
   "source": [
    "# Initialize the DataVersioner\n",
    "versioner = DataVersioner(base_dir='../data')\n",
    "\n",
    "# # version of the original dataset\n",
    "# version_id_original = versioner.version_dataset(\n",
    "#     data=data,\n",
    "#     dataset_name='diabetes_original',\n",
    "#     dataset_description='Original diabetes dataset'\n",
    "# )\n",
    "\n",
    "# Version the processed dataset\n",
    "version_id_processed = versioner.version_dataset(\n",
    "    data=processed_data,\n",
    "    dataset_name='diabetes_processed_02',\n",
    "    dataset_description='Processed diabetes dataset with outlier handling, feature scaling, engineering, and class balancing handling with smote'\n",
    ")\n",
    "# List all versions\n",
    "print(\"\\nAll available versions:\")\n",
    "display(versioner.list_versions('diabetes_processed_02'))"
   ]
  },
  {
   "cell_type": "markdown",
   "metadata": {},
   "source": [
    "<div style=\"background-color: #2E2E2B; padding: 15px; border-radius: 8px; margin: 10px 0;\">\n",
    "    <h2 style=\"color: #FFFFFF; margin-top: 0;\">📊 Validation Check</h2>\n",
    "</div>"
   ]
  },
  {
   "cell_type": "code",
   "execution_count": null,
   "metadata": {},
   "outputs": [],
   "source": [
    "# Perform validation checks on the processed data\n",
    "validation_results = {\n",
    "    'missing_values': processed_data.isnull().sum().sum(),\n",
    "    'duplicates': processed_data.duplicated().sum(),\n",
    "    'scaled_features_stats': {\n",
    "        'BMI': {\n",
    "            'mean': processed_data['BMI'].mean(),\n",
    "            'std': processed_data['BMI'].std()\n",
    "        },\n",
    "        'MentHlth': {\n",
    "            'mean': processed_data['MentHlth'].mean(),\n",
    "            'std': processed_data['MentHlth'].std()\n",
    "        },\n",
    "        'PhysHlth': {\n",
    "            'mean': processed_data['PhysHlth'].mean(),\n",
    "            'std': processed_data['PhysHlth'].std()\n",
    "        }\n",
    "    }\n",
    "}\n",
    "\n",
    "print(\"Validation Results:\")\n",
    "display(validation_results)"
   ]
  }
 ],
 "metadata": {
  "kernelspec": {
   "display_name": ".venv",
   "language": "python",
   "name": "python3"
  },
  "language_info": {
   "codemirror_mode": {
    "name": "ipython",
    "version": 3
   },
   "file_extension": ".py",
   "mimetype": "text/x-python",
   "name": "python",
   "nbconvert_exporter": "python",
   "pygments_lexer": "ipython3",
   "version": "3.11.7"
  }
 },
 "nbformat": 4,
 "nbformat_minor": 4
}
