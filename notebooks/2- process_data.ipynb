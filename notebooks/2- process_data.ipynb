import os
import pandas as pd
import numpy as np
from pathlib import Path
import sys 
import warnings
warnings.filterwarnings('ignore')

# Add the project root to the path to import project modules
sys.path.append(str(Path.cwd().parent))
from src.data.data_processing import DataProcessor
from src.data.data_versioning import DataVersioner

# Load the diabetes dataset
data_path = Path('../data/extracted/diabetes_data/diabetes_012_health_indicators_BRFSS2015.csv')
data = pd.read_csv(data_path)

print(f"Loaded data shape: {data.shape}")
print("\nInitial duplicate check:")
n_duplicates = data.duplicated().sum()
print(f"Number of duplicates: {n_duplicates}")
print("\nSample of duplicate rows:")
duplicate_mask = data.duplicated(keep=False)
print(data[duplicate_mask].head())

# Initialize the DataProcessor with configuration
processor_config = {
    'health_features': ['MentHlth', 'PhysHlth'],
    'bmi_feature': 'BMI',
    'target_column': 'Diabetes_012',
    'outlier_threshold': 3.0
}

processor = DataProcessor(config=processor_config)

# Process the data using our pipeline
processed_data = processor.process_data(data)

print("\nPost-processing duplicate check:")
post_duplicates = processed_data.duplicated().sum()
print(f"Number of duplicates after processing: {post_duplicates}")
print("\nSample of remaining duplicate rows:")
post_duplicate_mask = processed_data.duplicated(keep=False)
print(processed_data[post_duplicate_mask].head())

# Compare full duplicate rows
print("\nDetailed duplicate analysis:")
duplicate_rows = processed_data[processed_data.duplicated(keep=False)]
if not duplicate_rows.empty:
    print(f"\nNumber of rows that are duplicates: {len(duplicate_rows)}")
    print("\nSample duplicate rows with all columns:")
    print(duplicate_rows.head().to_string())

# Compare shapes
print(f"\nOriginal data shape: {data.shape}")
print(f"Processed data shape: {processed_data.shape}")

# Version the processed dataset
versioner = DataVersioner(base_dir='../data')
version_id = versioner.version_dataset(
    data=processed_data,
    dataset_name='diabetes_processed',
    dataset_description='Processed diabetes dataset with outlier handling and feature scaling'
)
